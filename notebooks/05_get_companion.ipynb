{
 "cells": [
  {
   "cell_type": "markdown",
   "metadata": {},
   "source": [
    "### get companion\n",
    "\n",
    "functions: introduces user and amount of people and get result companion\n",
    "\n",
    "- create KNN model\n",
    "- create function to calculate distances\n",
    "- create list of users\n"
   ]
  },
  {
   "cell_type": "code",
   "execution_count": 1,
   "metadata": {},
   "outputs": [],
   "source": [
    "import pandas as pd\n",
    "import numpy as np\n",
    "\n",
    "pd.set_option('display.max_rows', 100)\n",
    "\n",
    "# for plotting, not truly used in this notebook\n",
    "import matplotlib.pyplot as plt\n",
    "import seaborn as sns\n",
    "\n",
    "\n",
    "#model to calculate the closest neighbourgh\n",
    "from sklearn.neighbors import NearestNeighbors \n",
    "\n",
    "#compress sparse table for more efficient computation\n",
    "from scipy.sparse import csr_matrix"
   ]
  },
  {
   "cell_type": "markdown",
   "metadata": {},
   "source": [
    "### import"
   ]
  },
  {
   "cell_type": "code",
   "execution_count": 2,
   "metadata": {},
   "outputs": [],
   "source": [
    "path = \"../data/\"\n",
    "file = \"survey_matrix.csv\"\n",
    "\n",
    "survey_matrix = pd.read_csv(path+file)"
   ]
  },
  {
   "cell_type": "code",
   "execution_count": 3,
   "metadata": {},
   "outputs": [],
   "source": [
    "survey_matrix = survey_matrix.set_index(survey_matrix[\"userId\"]).drop(columns=\"userId\")"
   ]
  },
  {
   "cell_type": "markdown",
   "metadata": {},
   "source": [
    "### Build distance calculator\n",
    "\n",
    "#### modeling the closest neighbor\n",
    "\n",
    "https://scikit-learn.org/stable/modules/generated/sklearn.neighbors.NearestNeighbors.html"
   ]
  },
  {
   "cell_type": "code",
   "execution_count": 4,
   "metadata": {},
   "outputs": [],
   "source": [
    "# create model, based on the cosine distance\n",
    "model_knn = NearestNeighbors(metric=\"euclidean\",\n",
    "                             algorithm=\"brute\",\n",
    "                             n_jobs=-1)\n",
    "\n",
    "# create a compress table of movie_features, probably not necessary with this volume of data\n",
    "mat_survey_feat = csr_matrix(survey_matrix)"
   ]
  },
  {
   "cell_type": "code",
   "execution_count": 5,
   "metadata": {},
   "outputs": [
    {
     "data": {
      "text/plain": [
       "NearestNeighbors(algorithm='brute', leaf_size=30, metric='euclidean',\n",
       "                 metric_params=None, n_jobs=-1, n_neighbors=5, p=2, radius=1.0)"
      ]
     },
     "execution_count": 5,
     "metadata": {},
     "output_type": "execute_result"
    }
   ],
   "source": [
    "# fit the matrix in the model\n",
    "model_knn.fit(mat_survey_feat)"
   ]
  },
  {
   "cell_type": "code",
   "execution_count": 6,
   "metadata": {},
   "outputs": [],
   "source": [
    "# Calculate distances with every element, it returns an array\n",
    "# input\n",
    "# - survey_feat\n",
    "# - mat_survey_feat\n",
    "\n",
    "def get_distances(survey_feat, user_pos):\n",
    "    user_example = survey_feat.iloc[user_pos].values.reshape(1,-1)\n",
    "    return model_knn.kneighbors(user_example, n_neighbors=len(survey_matrix))"
   ]
  },
  {
   "cell_type": "code",
   "execution_count": 7,
   "metadata": {},
   "outputs": [],
   "source": [
    "# define a function that returns a x amount of friends\n",
    "def get_closest_ids(survey_feat, user_id, n_of_friends):\n",
    "    n = n_of_friends + 1\n",
    "    user_example = survey_feat.iloc[user_id].values.reshape(1,-1)\n",
    "    distances, friends = model_knn.kneighbors(user_example, n_neighbors=n)\n",
    "    #return friends\n",
    "    return friends[0][1:n]"
   ]
  },
  {
   "cell_type": "code",
   "execution_count": 8,
   "metadata": {},
   "outputs": [
    {
     "data": {
      "text/plain": [
       "array([21, 36])"
      ]
     },
     "execution_count": 8,
     "metadata": {},
     "output_type": "execute_result"
    }
   ],
   "source": [
    "# returns 2 id's of the closest \"friends\" to go to the movies\n",
    "n=2\n",
    "friends = get_closest_ids(survey_matrix,0,n)\n",
    "friends"
   ]
  },
  {
   "cell_type": "code",
   "execution_count": 9,
   "metadata": {},
   "outputs": [
    {
     "data": {
      "text/plain": [
       "['lea dicaprio', 'Isabel']"
      ]
     },
     "execution_count": 9,
     "metadata": {},
     "output_type": "execute_result"
    }
   ],
   "source": [
    "list(survey_matrix.iloc[friends].index)"
   ]
  },
  {
   "cell_type": "code",
   "execution_count": 10,
   "metadata": {},
   "outputs": [
    {
     "data": {
      "text/plain": [
       "14"
      ]
     },
     "execution_count": 10,
     "metadata": {},
     "output_type": "execute_result"
    }
   ],
   "source": [
    "list(survey_matrix.index).index(\"Mandy\")"
   ]
  },
  {
   "cell_type": "code",
   "execution_count": 11,
   "metadata": {},
   "outputs": [],
   "source": [
    "def get_companion(survey_feat, name, n_of_friends):\n",
    "    # create lsit of users to find the id\n",
    "    users = list(survey_feat.index)\n",
    "    # check if the name is in the list\n",
    "    if name in users:\n",
    "        # find the user_id\n",
    "        idx = list(survey_matrix.index).index(name)\n",
    "                   \n",
    "        # get a list of closest friends ids\n",
    "        friends_ids = get_closest_ids(survey_feat, idx, n_of_friends)\n",
    "                   \n",
    "        # get the name of the friends and set a list\n",
    "        friends = list(survey_matrix.iloc[friends_ids].index)\n",
    "                   \n",
    "        # print message\n",
    "        print(\"Hi \", name)\n",
    "        print(\"you should go to the movies with: \")\n",
    "                   \n",
    "        #print name of everyone in the list\n",
    "        for i in range(len(friends)):\n",
    "            print(friends[i])\n",
    "           \n",
    "        # if the name is not in the list\n",
    "    else:\n",
    "        print(\"sorry, we can't find you in the db, try with other name or fill the survey under the link\")\n",
    "        print(\"https://forms.gle/SDJu3U2U9GJW764D9\")\n",
    "\n",
    "    \n",
    "    return None\n",
    "    "
   ]
  },
  {
   "cell_type": "code",
   "execution_count": 12,
   "metadata": {},
   "outputs": [
    {
     "data": {
      "text/plain": [
       "['Tessa',\n",
       " 'Mano',\n",
       " 'olivia',\n",
       " 'Seno',\n",
       " 'Sujit',\n",
       " 'Unknown',\n",
       " 'brecht',\n",
       " 'Can',\n",
       " 'Valerie',\n",
       " 'Adam Driver',\n",
       " 'Alex',\n",
       " 'me',\n",
       " 'June',\n",
       " 'Max',\n",
       " 'Mandy',\n",
       " 'Tobias',\n",
       " 'em',\n",
       " 'Dani',\n",
       " 'Pantareimadrid',\n",
       " 'tove',\n",
       " 'Elsa',\n",
       " 'lea dicaprio',\n",
       " 'Cuanina',\n",
       " 'Alex Tester',\n",
       " 'Carmen Maura',\n",
       " 'Carstencito',\n",
       " 'Mag',\n",
       " 'Arne',\n",
       " 'Kosta',\n",
       " 'Chespirito',\n",
       " 'Marcel',\n",
       " 'Flac',\n",
       " 'yai',\n",
       " 'Totoro',\n",
       " 'John Sample',\n",
       " 'Wim Wenders',\n",
       " 'Isabel',\n",
       " 'Julie',\n",
       " 'Tony Stark',\n",
       " 'Hilko',\n",
       " 'Yoana']"
      ]
     },
     "execution_count": 12,
     "metadata": {},
     "output_type": "execute_result"
    }
   ],
   "source": [
    "list(survey_matrix.index)"
   ]
  },
  {
   "cell_type": "code",
   "execution_count": 13,
   "metadata": {},
   "outputs": [
    {
     "name": "stdout",
     "output_type": "stream",
     "text": [
      "Hi  Seno\n",
      "you should go to the movies with: \n",
      "Valerie\n",
      "Flac\n",
      "Totoro\n"
     ]
    }
   ],
   "source": [
    "get_companion(survey_matrix, \"Seno\", 3)\n"
   ]
  },
  {
   "cell_type": "code",
   "execution_count": null,
   "metadata": {},
   "outputs": [],
   "source": []
  }
 ],
 "metadata": {
  "kernelspec": {
   "display_name": "Python 3",
   "language": "python",
   "name": "python3"
  },
  "language_info": {
   "codemirror_mode": {
    "name": "ipython",
    "version": 3
   },
   "file_extension": ".py",
   "mimetype": "text/x-python",
   "name": "python",
   "nbconvert_exporter": "python",
   "pygments_lexer": "ipython3",
   "version": "3.7.5"
  }
 },
 "nbformat": 4,
 "nbformat_minor": 2
}
