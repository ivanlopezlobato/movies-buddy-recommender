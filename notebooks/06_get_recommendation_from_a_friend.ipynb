{
 "cells": [
  {
   "cell_type": "markdown",
   "metadata": {},
   "source": [
    "given an user, selecting other user, recommend a movie\n",
    "\n",
    "() get a list of movies of the user (sort by rating)\n",
    "\n",
    "() get a list of movies of the the friend (sort by rating)\n",
    "\n",
    "() remove the movies of the user from the friend\n",
    "\n",
    "() provide the top ones\n",
    "\n",
    "TO BE DEVELOPED"
   ]
  },
  {
   "cell_type": "code",
   "execution_count": null,
   "metadata": {},
   "outputs": [],
   "source": []
  }
 ],
 "metadata": {
  "kernelspec": {
   "display_name": "Python 3",
   "language": "python",
   "name": "python3"
  },
  "language_info": {
   "codemirror_mode": {
    "name": "ipython",
    "version": 3
   },
   "file_extension": ".py",
   "mimetype": "text/x-python",
   "name": "python",
   "nbconvert_exporter": "python",
   "pygments_lexer": "ipython3",
   "version": "3.7.5"
  }
 },
 "nbformat": 4,
 "nbformat_minor": 2
}
