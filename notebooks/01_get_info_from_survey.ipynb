{
 "cells": [
  {
   "cell_type": "markdown",
   "metadata": {},
   "source": [
    "Given the results of the Survey in a CSV\n",
    "\n",
    "- Check it and clean it\n",
    "- Creates survey ratings df\n",
    "- Integrate it with the ml ratings df\n",
    "- Export the resulting csv\n",
    "\n",
    "form based on https://docs.google.com/forms/d/1M1qkwX0DpBi7SI2b13Iuk10iQ0nBH_HvCBcEGCUjNBg/edit#responses"
   ]
  },
  {
   "cell_type": "code",
   "execution_count": 1,
   "metadata": {},
   "outputs": [],
   "source": [
    "import pandas as pd\n",
    "import numpy as np\n",
    "\n",
    "pd.set_option('display.max_rows', 100)"
   ]
  },
  {
   "cell_type": "markdown",
   "metadata": {},
   "source": [
    "### preparing survey data"
   ]
  },
  {
   "cell_type": "code",
   "execution_count": 2,
   "metadata": {},
   "outputs": [],
   "source": [
    "# import Survey results CSV\n",
    "path = \"../data/\"\n",
    "file = \"Movie Matching 2010-2019.csv\"\n",
    "\n",
    "survey = pd.read_csv(path+file)"
   ]
  },
  {
   "cell_type": "code",
   "execution_count": 3,
   "metadata": {},
   "outputs": [],
   "source": [
    "# drop first 2 rows: they were testers\n",
    "# set names as id and place them in the index\n",
    "survey = (survey.drop([0,1])\n",
    "                .rename(columns = {\"Please, add a name or alias\":\"userId\"})\n",
    "                .reset_index(drop=True)\n",
    "                .set_index(\"userId\"))"
   ]
  },
  {
   "cell_type": "code",
   "execution_count": 4,
   "metadata": {},
   "outputs": [],
   "source": [
    "# store in a series additional commentaries in the dataset\n",
    "additional = survey[\"Additional films that you would like to remark\"].dropna()\n",
    "\n",
    "# drop unnecessary columns\n",
    "drop_columns = [\"Timestamp\", \"Unnamed: 101\", \"Unnamed: 102\", \"Unnamed: 103\", \"Additional films that you would like to remark\"]\n",
    "\n",
    "survey = survey.drop(columns=drop_columns)"
   ]
  },
  {
   "cell_type": "code",
   "execution_count": 5,
   "metadata": {},
   "outputs": [],
   "source": [
    "# Create table with stats\n",
    "movies_stats = survey.describe().T\n",
    "\n",
    "users_stats = survey.T.describe().T"
   ]
  },
  {
   "cell_type": "code",
   "execution_count": 6,
   "metadata": {},
   "outputs": [],
   "source": [
    "# create df with NaN values as 0\n",
    "survey_matrix = survey.fillna(0)"
   ]
  },
  {
   "cell_type": "markdown",
   "metadata": {},
   "source": [
    "### Melting Survey dataframe"
   ]
  },
  {
   "cell_type": "code",
   "execution_count": 7,
   "metadata": {},
   "outputs": [],
   "source": [
    "# melt(inverse of pivot) the survey file to have the survey_ratings file\n",
    "# define a list with every title name\n",
    "melt_columns = list(survey.columns)\n",
    "\n",
    "# create intermediate column for adding userId as column\n",
    "# (problems melting with the index value)\n",
    "survey_x = survey.copy()\n",
    "survey_x[\"userId\"]=survey_x.index\n",
    "\n",
    "# creat melt\n",
    "survey_melt = pd.melt(survey_x, id_vars=\"userId\", value_vars=melt_columns)"
   ]
  },
  {
   "cell_type": "code",
   "execution_count": 8,
   "metadata": {},
   "outputs": [],
   "source": [
    "# subset only movies with review\n",
    "# rename columns name\n",
    "\n",
    "survey_melt = (survey_melt[-survey_melt[\"value\"].isna()]\n",
    "                                                .reset_index(drop=True)\n",
    "                                                .rename(columns={\"variable\":\"title_survey\", \"value\":\"rating\"}))"
   ]
  },
  {
   "cell_type": "code",
   "execution_count": 9,
   "metadata": {},
   "outputs": [
    {
     "data": {
      "text/html": [
       "<div>\n",
       "<style scoped>\n",
       "    .dataframe tbody tr th:only-of-type {\n",
       "        vertical-align: middle;\n",
       "    }\n",
       "\n",
       "    .dataframe tbody tr th {\n",
       "        vertical-align: top;\n",
       "    }\n",
       "\n",
       "    .dataframe thead th {\n",
       "        text-align: right;\n",
       "    }\n",
       "</style>\n",
       "<table border=\"1\" class=\"dataframe\">\n",
       "  <thead>\n",
       "    <tr style=\"text-align: right;\">\n",
       "      <th></th>\n",
       "      <th>userId</th>\n",
       "      <th>title_survey</th>\n",
       "      <th>rating</th>\n",
       "    </tr>\n",
       "  </thead>\n",
       "  <tbody>\n",
       "    <tr>\n",
       "      <th>0</th>\n",
       "      <td>Mano</td>\n",
       "      <td>Joker (2019)</td>\n",
       "      <td>5.0</td>\n",
       "    </tr>\n",
       "    <tr>\n",
       "      <th>1</th>\n",
       "      <td>olivia</td>\n",
       "      <td>Joker (2019)</td>\n",
       "      <td>5.0</td>\n",
       "    </tr>\n",
       "    <tr>\n",
       "      <th>2</th>\n",
       "      <td>Seno</td>\n",
       "      <td>Joker (2019)</td>\n",
       "      <td>4.0</td>\n",
       "    </tr>\n",
       "    <tr>\n",
       "      <th>3</th>\n",
       "      <td>Sujit</td>\n",
       "      <td>Joker (2019)</td>\n",
       "      <td>4.0</td>\n",
       "    </tr>\n",
       "    <tr>\n",
       "      <th>4</th>\n",
       "      <td>brecht</td>\n",
       "      <td>Joker (2019)</td>\n",
       "      <td>5.0</td>\n",
       "    </tr>\n",
       "    <tr>\n",
       "      <th>...</th>\n",
       "      <td>...</td>\n",
       "      <td>...</td>\n",
       "      <td>...</td>\n",
       "    </tr>\n",
       "    <tr>\n",
       "      <th>1725</th>\n",
       "      <td>Wim Wenders</td>\n",
       "      <td>The Social Network (2010)</td>\n",
       "      <td>5.0</td>\n",
       "    </tr>\n",
       "    <tr>\n",
       "      <th>1726</th>\n",
       "      <td>Isabel</td>\n",
       "      <td>The Social Network (2010)</td>\n",
       "      <td>2.0</td>\n",
       "    </tr>\n",
       "    <tr>\n",
       "      <th>1727</th>\n",
       "      <td>Julie</td>\n",
       "      <td>The Social Network (2010)</td>\n",
       "      <td>3.0</td>\n",
       "    </tr>\n",
       "    <tr>\n",
       "      <th>1728</th>\n",
       "      <td>Tony Stark</td>\n",
       "      <td>The Social Network (2010)</td>\n",
       "      <td>3.0</td>\n",
       "    </tr>\n",
       "    <tr>\n",
       "      <th>1729</th>\n",
       "      <td>Yoana</td>\n",
       "      <td>The Social Network (2010)</td>\n",
       "      <td>4.0</td>\n",
       "    </tr>\n",
       "  </tbody>\n",
       "</table>\n",
       "<p>1730 rows × 3 columns</p>\n",
       "</div>"
      ],
      "text/plain": [
       "           userId               title_survey  rating\n",
       "0            Mano               Joker (2019)     5.0\n",
       "1          olivia               Joker (2019)     5.0\n",
       "2            Seno               Joker (2019)     4.0\n",
       "3           Sujit               Joker (2019)     4.0\n",
       "4          brecht               Joker (2019)     5.0\n",
       "...           ...                        ...     ...\n",
       "1725  Wim Wenders  The Social Network (2010)     5.0\n",
       "1726       Isabel  The Social Network (2010)     2.0\n",
       "1727        Julie  The Social Network (2010)     3.0\n",
       "1728   Tony Stark  The Social Network (2010)     3.0\n",
       "1729        Yoana  The Social Network (2010)     4.0\n",
       "\n",
       "[1730 rows x 3 columns]"
      ]
     },
     "execution_count": 9,
     "metadata": {},
     "output_type": "execute_result"
    }
   ],
   "source": [
    "survey_melt"
   ]
  },
  {
   "cell_type": "markdown",
   "metadata": {},
   "source": [
    "### import movie characteristics and creating survey_ratings df"
   ]
  },
  {
   "cell_type": "code",
   "execution_count": 10,
   "metadata": {},
   "outputs": [],
   "source": [
    "# import the movies data from the survey\n",
    "file2 = \"list of movies - dataset.csv\"\n",
    "\n",
    "survey_movie_list = pd.read_csv(path+file2)"
   ]
  },
  {
   "cell_type": "code",
   "execution_count": 11,
   "metadata": {},
   "outputs": [],
   "source": [
    "# merge survey_melt with survey_movie_list\n",
    "# subset only the some columns\n",
    "\n",
    "survey_ratings = survey_melt.merge(survey_movie_list, how=\"inner\", left_on = \"title_survey\", right_on = \"title_survey\")[[\"userId\", \"imdbId\", \"rating\"]]"
   ]
  },
  {
   "cell_type": "code",
   "execution_count": 12,
   "metadata": {},
   "outputs": [
    {
     "data": {
      "text/html": [
       "<div>\n",
       "<style scoped>\n",
       "    .dataframe tbody tr th:only-of-type {\n",
       "        vertical-align: middle;\n",
       "    }\n",
       "\n",
       "    .dataframe tbody tr th {\n",
       "        vertical-align: top;\n",
       "    }\n",
       "\n",
       "    .dataframe thead th {\n",
       "        text-align: right;\n",
       "    }\n",
       "</style>\n",
       "<table border=\"1\" class=\"dataframe\">\n",
       "  <thead>\n",
       "    <tr style=\"text-align: right;\">\n",
       "      <th></th>\n",
       "      <th>userId</th>\n",
       "      <th>imdbId</th>\n",
       "      <th>rating</th>\n",
       "    </tr>\n",
       "  </thead>\n",
       "  <tbody>\n",
       "    <tr>\n",
       "      <th>0</th>\n",
       "      <td>Mano</td>\n",
       "      <td>7286456</td>\n",
       "      <td>5.0</td>\n",
       "    </tr>\n",
       "    <tr>\n",
       "      <th>1</th>\n",
       "      <td>olivia</td>\n",
       "      <td>7286456</td>\n",
       "      <td>5.0</td>\n",
       "    </tr>\n",
       "    <tr>\n",
       "      <th>2</th>\n",
       "      <td>Seno</td>\n",
       "      <td>7286456</td>\n",
       "      <td>4.0</td>\n",
       "    </tr>\n",
       "    <tr>\n",
       "      <th>3</th>\n",
       "      <td>Sujit</td>\n",
       "      <td>7286456</td>\n",
       "      <td>4.0</td>\n",
       "    </tr>\n",
       "    <tr>\n",
       "      <th>4</th>\n",
       "      <td>brecht</td>\n",
       "      <td>7286456</td>\n",
       "      <td>5.0</td>\n",
       "    </tr>\n",
       "    <tr>\n",
       "      <th>...</th>\n",
       "      <td>...</td>\n",
       "      <td>...</td>\n",
       "      <td>...</td>\n",
       "    </tr>\n",
       "    <tr>\n",
       "      <th>1671</th>\n",
       "      <td>Wim Wenders</td>\n",
       "      <td>1285016</td>\n",
       "      <td>5.0</td>\n",
       "    </tr>\n",
       "    <tr>\n",
       "      <th>1672</th>\n",
       "      <td>Isabel</td>\n",
       "      <td>1285016</td>\n",
       "      <td>2.0</td>\n",
       "    </tr>\n",
       "    <tr>\n",
       "      <th>1673</th>\n",
       "      <td>Julie</td>\n",
       "      <td>1285016</td>\n",
       "      <td>3.0</td>\n",
       "    </tr>\n",
       "    <tr>\n",
       "      <th>1674</th>\n",
       "      <td>Tony Stark</td>\n",
       "      <td>1285016</td>\n",
       "      <td>3.0</td>\n",
       "    </tr>\n",
       "    <tr>\n",
       "      <th>1675</th>\n",
       "      <td>Yoana</td>\n",
       "      <td>1285016</td>\n",
       "      <td>4.0</td>\n",
       "    </tr>\n",
       "  </tbody>\n",
       "</table>\n",
       "<p>1676 rows × 3 columns</p>\n",
       "</div>"
      ],
      "text/plain": [
       "           userId   imdbId  rating\n",
       "0            Mano  7286456     5.0\n",
       "1          olivia  7286456     5.0\n",
       "2            Seno  7286456     4.0\n",
       "3           Sujit  7286456     4.0\n",
       "4          brecht  7286456     5.0\n",
       "...           ...      ...     ...\n",
       "1671  Wim Wenders  1285016     5.0\n",
       "1672       Isabel  1285016     2.0\n",
       "1673        Julie  1285016     3.0\n",
       "1674   Tony Stark  1285016     3.0\n",
       "1675        Yoana  1285016     4.0\n",
       "\n",
       "[1676 rows x 3 columns]"
      ]
     },
     "execution_count": 12,
     "metadata": {},
     "output_type": "execute_result"
    }
   ],
   "source": [
    "survey_ratings"
   ]
  },
  {
   "cell_type": "code",
   "execution_count": 13,
   "metadata": {},
   "outputs": [],
   "source": [
    "# there are movies from 2019 that are not included in the movie lens dataset\n",
    "\n",
    "file4 = \"list of movies - missing_movies_from_ml_imdbIds.csv\"\n",
    "\n",
    "missing_movies = pd.read_csv(path+file4)"
   ]
  },
  {
   "cell_type": "code",
   "execution_count": 14,
   "metadata": {},
   "outputs": [],
   "source": [
    "# create a subset of the survey_ratings with every movie till 2018 (included in the ml dataset)\n",
    "survey_ratings_2018 = survey_ratings[-survey_ratings[\"imdbId\"].isin(missing_movies[\"imdbId\"])].reset_index(drop=True)"
   ]
  },
  {
   "cell_type": "markdown",
   "metadata": {},
   "source": [
    "### subsetting movieLens ratings only with movies of the survey\n",
    "\n",
    "not used on the final project, problems to upload 700MB file into the github.\n",
    "\n",
    "Only used locally"
   ]
  },
  {
   "cell_type": "markdown",
   "metadata": {},
   "source": [
    "#### import the movies data from the survey\n",
    "path2 = \"../data/ml-latest/\"\n",
    "file3 = \"links.csv\"\n",
    "file4 = \"ratings.csv\"\n",
    "\n",
    "ml_links = pd.read_csv(path2+file3)\n",
    "ml_ratings = pd.read_csv(path2+file4)"
   ]
  },
  {
   "cell_type": "markdown",
   "metadata": {},
   "source": [
    "#### subset ml_ratings only with imdbId\n",
    "ml_ratings = ml_ratings.merge(ml_links, how=\"inner\", left_on=\"movieId\", right_on=\"movieId\")[[\"userId\", \"imdbId\", \"rating\"]]"
   ]
  },
  {
   "cell_type": "markdown",
   "metadata": {},
   "source": [
    "#### define a list of movies\n",
    "list_of_movies = list(survey_movie_list[\"imdbId\"])\n",
    "ml_ratings_sv = ml_ratings[ml_ratings[\"imdbId\"].isin(list_of_movies)]"
   ]
  },
  {
   "cell_type": "markdown",
   "metadata": {},
   "source": [
    "#### creating boolean variable to both ratings\n",
    "ml_ratings_sv[\"source\"]=0\n",
    "survey_ratings[\"source\"]=1"
   ]
  },
  {
   "cell_type": "markdown",
   "metadata": {},
   "source": [
    "#### concat both ratings in one dataset\n",
    "ratings_merged = pd.concat([survey_ratings, ml_ratings_sv],sort=False).reset_index(drop=True)"
   ]
  },
  {
   "cell_type": "markdown",
   "metadata": {},
   "source": [
    "### export csv of all value tables"
   ]
  },
  {
   "cell_type": "markdown",
   "metadata": {},
   "source": [
    "movies_stats.to_csv(path+\"movies_stats.csv\")\n",
    "\n",
    "users_stats.to_csv(path+\"users_stats.csv\")\n",
    "\n",
    "###### survey_matrix.to_csv(path+\"survey_matrix.csv\", index=False)\n",
    "survey_matrix.to_csv(path+\"survey_matrix.csv\")\n",
    "\n",
    "survey_ratings.to_csv(path+\"survey_ratings.csv\", index=False)\n",
    "\n",
    "ratings_merged.to_csv(path+\"ratings_merged.csv\", index=False)"
   ]
  },
  {
   "cell_type": "markdown",
   "metadata": {},
   "source": [
    "#### concat both with only with the movies till 2018\n",
    "ratings_merged_2018 = pd.concat([survey_ratings_2018, ml_ratings_sv],sort=False).reset_index(drop=True)"
   ]
  },
  {
   "cell_type": "markdown",
   "metadata": {},
   "source": [
    "ratings_merged_2018.to_csv(path+\"ratings_merged_2018.csv\", index=False)"
   ]
  },
  {
   "cell_type": "markdown",
   "metadata": {},
   "source": []
  }
 ],
 "metadata": {
  "kernelspec": {
   "display_name": "Python 3",
   "language": "python",
   "name": "python3"
  },
  "language_info": {
   "codemirror_mode": {
    "name": "ipython",
    "version": 3
   },
   "file_extension": ".py",
   "mimetype": "text/x-python",
   "name": "python",
   "nbconvert_exporter": "python",
   "pygments_lexer": "ipython3",
   "version": "3.7.5"
  }
 },
 "nbformat": 4,
 "nbformat_minor": 2
}
